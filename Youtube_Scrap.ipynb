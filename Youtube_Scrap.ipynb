{
  "nbformat": 4,
  "nbformat_minor": 0,
  "metadata": {
    "colab": {
      "provenance": []
    },
    "kernelspec": {
      "name": "python3",
      "display_name": "Python 3"
    },
    "language_info": {
      "name": "python"
    }
  },
  "cells": [
    {
      "cell_type": "code",
      "execution_count": 27,
      "metadata": {
        "id": "-3DtD4KrFFAj"
      },
      "outputs": [],
      "source": [
        "import requests"
      ]
    },
    {
      "cell_type": "code",
      "source": [
        "video_id=\"Your_Video_Id\""
      ],
      "metadata": {
        "id": "A8SsRJ0nFXyY"
      },
      "execution_count": 28,
      "outputs": []
    },
    {
      "cell_type": "code",
      "source": [
        "api_key=\"Your_Api_Key\""
      ],
      "metadata": {
        "id": "mcnRQlmGFdMH"
      },
      "execution_count": 29,
      "outputs": []
    },
    {
      "cell_type": "code",
      "source": [
        "video_url=f\"https://www.googleapis.com/youtube/v3/videos?&id={video_id}&key={api_key}\""
      ],
      "metadata": {
        "id": "ZRhblnvTFfon"
      },
      "execution_count": 30,
      "outputs": []
    },
    {
      "cell_type": "code",
      "source": [
        "r = requests.get(video_url)\n",
        "data=r.json()\n",
        "data"
      ],
      "metadata": {
        "id": "z7eAM0ehFiJ2"
      },
      "execution_count": null,
      "outputs": []
    },
    {
      "cell_type": "code",
      "source": [
        "url=f\"https://www.googleapis.com/youtube/v3/videos?id={video_id}&key={api_key}&part=snippet,contentDetails,statistics,status\"\n",
        "r = requests.get(url)\n",
        "data=r.json()\n",
        "data"
      ],
      "metadata": {
        "id": "a1IGCGUdFt8V"
      },
      "execution_count": null,
      "outputs": []
    },
    {
      "cell_type": "code",
      "source": [
        "video_comment_url=f\"https://www.googleapis.com/youtube/v3/commentThreads?key={api_key}&textFormat=plainText&part=snippet&videoId={video_id}&maxResults=10\"\n",
        "comment_res=requests.get(video_comment_url)\n",
        "comments_data=comment_res.json()\n",
        "comments_data"
      ],
      "metadata": {
        "id": "UZHg_c6KFnfO"
      },
      "execution_count": null,
      "outputs": []
    },
    {
      "cell_type": "code",
      "source": [
        "comments_url = f\"https://www.googleapis.com/youtube/v3/commentThreads?part=snippet&videoId={video_id}&key={api_key}\"\n",
        "comments_response= requests.get(comments_url)\n",
        "comments_data = comments_response.json()\n",
        "comments = [item[\"snippet\"][\"topLevelComment\"][\"snippet\"][\"textOriginal\"] for item in comments_data[\"items\"]]\n",
        "print('\\n'.join(comments))"
      ],
      "metadata": {
        "id": "PuFRWOQAHRmS"
      },
      "execution_count": null,
      "outputs": []
    }
  ]
}